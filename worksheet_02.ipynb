{
  "metadata": {
    "vscode": {
      "interpreter": {
        "hash": "76ca05dc3ea24b2e3b98cdb7774adfbb40773424bf5109b477fd793f623715af"
      }
    },
    "kernelspec": {
      "name": "python",
      "display_name": "Python (Pyodide)",
      "language": "python"
    },
    "language_info": {
      "codemirror_mode": {
        "name": "python",
        "version": 3
      },
      "file_extension": ".py",
      "mimetype": "text/x-python",
      "name": "python",
      "nbconvert_exporter": "python",
      "pygments_lexer": "ipython3",
      "version": "3.8"
    }
  },
  "nbformat_minor": 4,
  "nbformat": 4,
  "cells": [
    {
      "cell_type": "markdown",
      "source": "# Worksheet 02\n\nName:  Jasper Hoong\nUID: U91969628\n\n### Topics\n\n- Effective Programming\n\n### Effective Programming\n\na) What is a drawback of the top down approach?",
      "metadata": {}
    },
    {
      "cell_type": "markdown",
      "source": "You don't have runnable and testable code until you're completely done",
      "metadata": {}
    },
    {
      "cell_type": "markdown",
      "source": "b) What is a drawback of the bottom up approach?",
      "metadata": {}
    },
    {
      "cell_type": "markdown",
      "source": "You have to plan everything out upfront and doing a lot of overhead. You might end up implementing things you end up not needing later",
      "metadata": {}
    },
    {
      "cell_type": "markdown",
      "source": "c) What are 3 things you can do to have a better debugging experience?",
      "metadata": {}
    },
    {
      "cell_type": "markdown",
      "source": "re-read your code",
      "metadata": {}
    },
    {
      "cell_type": "code",
      "source": "look online for help",
      "metadata": {},
      "execution_count": null,
      "outputs": []
    },
    {
      "cell_type": "code",
      "source": "check your sanity and take a break like going to sleep",
      "metadata": {},
      "execution_count": null,
      "outputs": []
    },
    {
      "cell_type": "markdown",
      "source": "d) Follow along with the live coding. You can write your code here:",
      "metadata": {}
    },
    {
      "cell_type": "code",
      "source": "class Board:\n    def __init__(self):\n        self.board = [[\"\" for _ in range(8)] for _ in range(8)]\n    def __repr__(self):\n        res = \"\"\n        for row in self.board:\n            for col in row:\n                res += col\n                res += \"\"\n            res += \"\\n\"\n        return res\n    \n    def is_on_board(self, row, col):\n        return row >= 0 and row < 8 and col >= and col < 8\n    def is_legal_row(self, row, col):\n        for j in range(len(self.board)):\n            if self.board[row][j] == \"Q\":\n                return False\n        return True\n    def is_legal_col(self, row, col):\n        for j in range(len(self.board)):\n            if self.board[i][col] == \"Q\":\n                return False\n        return True\n    def is_legal_diag(self, row, col):\n        for i in range(len(self.board)):\n            if self.is_on_board[row-i][col-i] and self.board[row - i][col - i] == \"Q\":\n                return False\n            if self.is_on_board[row-i][col+i] and self.board[row - i][col + i] == \"Q\":\n                return False\n            if self.is_on_board[row+i][col+i] and self.board[row + i][col + i] == \"Q\":\n                return False\n            if self.is_on_board[row+i][col-i] and self.board[row + i][col - i] == \"Q\":\n                return False\n        return True\n        \n    def is_legal(self, row, col):\n        if not self.is_legal_row(row, col):\n            return False\n        if not self.is_legal_col(row, col):\n            return False\n        if not self.is_legal_diag(row, col):\n            return False\n        return True\n    \n    def set_queen_at(self, row, col):\n        self.board[row][col] = \"Q\"\n        \n    def unset_queen_on(self, row):\n        self.board[row] = [\"_\" for _ in range(8)]\n        \n    def get_queen_on(self, row):\n        for col in range(len(self.board)):\n            if self.board[row][col] == \"Q\"\n                return col\n        raise ValueError(\"programmer error\")\n        \n    \n    def search(self):\n        row = 0\n        col = 0\n        while row < 8:\n            if self.is_legal(row, col):\n                self.set_queen_at(row, col)\n                row += 1\n                col = 0\n            else:\n                col += 1\n                while col >= 8:\n                    col = self.get_queen_on(row-1)\n                    self.unset_queen_on(row-1)\n                    col += 1\n                    row -= 1\n                \n        print(\"found a solution\")\n        print(self)\n    \nmy_board = Board()\nmy_board.search()\n\n",
      "metadata": {},
      "execution_count": null,
      "outputs": []
    }
  ]
}