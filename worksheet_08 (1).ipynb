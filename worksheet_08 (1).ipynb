{
  "metadata": {
    "interpreter": {
      "hash": "76ca05dc3ea24b2e3b98cdb7774adfbb40773424bf5109b477fd793f623715af"
    },
    "kernelspec": {
      "name": "python",
      "display_name": "Python (Pyodide)",
      "language": "python"
    },
    "language_info": {
      "codemirror_mode": {
        "name": "ipython",
        "version": 3
      },
      "file_extension": ".py",
      "mimetype": "text/x-python",
      "name": "python",
      "nbconvert_exporter": "python",
      "pygments_lexer": "ipython3",
      "version": "3.11.1"
    }
  },
  "nbformat_minor": 4,
  "nbformat": 4,
  "cells": [
    {
      "cell_type": "markdown",
      "source": "# Worksheet 08\n\nName: Jasper Hoong \nUID: U91969628\n\n### Topics\n\n- Soft Clustering\n- Clustering Aggregation\n\n### Probability Review\n\nRead through [the following](https://medium.com/@gallettilance/overview-of-probability-3272b72c82c8)\n\n### Soft Clustering\n\nWe generate 10 data points that come from a normal distribution with mean 5 and variance 1.",
      "metadata": {}
    },
    {
      "cell_type": "code",
      "source": "import random\nimport numpy as np\nfrom sklearn.cluster import KMeans\n\nmean = 5\nstdev = 1\n\nc1 = np.random.normal(mean, stdev, 10).tolist()\nprint(c1)",
      "metadata": {},
      "execution_count": null,
      "outputs": []
    },
    {
      "cell_type": "markdown",
      "source": "a) Generate 10 more data points, this time coming from a normal distribution with mean 8 and variance 1.",
      "metadata": {}
    },
    {
      "cell_type": "code",
      "source": "c2 = np.random.normal( 8 , 1 , 10 ).tolist()\nprint(c2)",
      "metadata": {},
      "execution_count": null,
      "outputs": []
    },
    {
      "cell_type": "markdown",
      "source": "b) Flip a fair coin 10 times. If the coin lands on H, then pick the last data point of `c1` and remove it from `c1`, if T then pick the last data point from `c2` and remove it from `c2`. Add these 10 points to a list called `data`.",
      "metadata": {}
    },
    {
      "cell_type": "code",
      "source": "data = []\nfor i in range(10):\n    # flip coin\n    coin_output = random.choice([0, 1])\n    if coin_output == 0:\n        p1 = c1.pop()\n        data.append(p1)\n    else:\n        p2 = c2.pop()\n        data.append(p2)\nprint(data)",
      "metadata": {},
      "execution_count": null,
      "outputs": []
    },
    {
      "cell_type": "markdown",
      "source": "c) This `data` is a Gaussian Mixture Distribution with 2 mixture components. Over the next few questions we will walk through the GMM algorithm to see if we can uncover the parameters we used to generate this data. First, please list all these parameters of the GMM that created `data` and the values we know they have.",
      "metadata": {}
    },
    {
      "cell_type": "markdown",
      "source": "Mean, variance",
      "metadata": {}
    },
    {
      "cell_type": "markdown",
      "source": "d) Let's assume there are two mixture components (note: we could plot the data and make the observation that there are two clusters). The EM algorithm asks us to start with a random `mean_j`, `variance_j`, `P(C_j)` for each component j. One method we could use to find sensible values for these is to apply K means with k=2 here.\n\n1. the centroids would be the estimates of the `mean_j`\n2. the intra-cluster variance could be the estimate of `variance_j`\n3. the proportion of points in each cluster could be the estimate of `P(C_j)`\n\nGo through this process and list the parameter estimates it gives. Are they close or far from the true values?",
      "metadata": {}
    },
    {
      "cell_type": "code",
      "source": "kmeans = KMeans(2, init='k-means++').fit(X=np.array(data).reshape(-1, 1))\n\nc1 = [x[0] for x in filter(lambda x: x[1] == 0, zip(data, kmeans.labels_))]\nprint(c1)\nc2 = ... \nprint(c2)\n\nprob_c = [ len(c1) / (len(c1) + len(c2)) , ... ]\nmean = [ sum(c1)/len(c1) , ... ]\nvar = [ sum(map(lambda x : (x - mean[0])**2, c1)) / len(c1) , ... ]\n\nprint(\"P(C_1) = \" + str(prob_c[0]) + \",  P(C_2) = \" + str(prob_c[1]))\nprint(\"mean_1 = \" + str(mean[0]) + \",  mean_2 = \" + str(mean[1]))\nprint(\"var_1 = \" + str(var[0]) + \",  var_2 = \" + str(var[1]))",
      "metadata": {},
      "execution_count": null,
      "outputs": []
    },
    {
      "cell_type": "markdown",
      "source": "",
      "metadata": {}
    },
    {
      "cell_type": "markdown",
      "source": "e) For each data point, compute `P(C_j | X_i)`. Comment on which cluster you think each point belongs to based on the estimated probabilities. How does that compare to the truth?",
      "metadata": {}
    },
    {
      "cell_type": "code",
      "source": "from scipy.stats import norm\n\nprob_c0_x = [] # P(C_0 | X_i)\nprob_c1_x = [] # P(C_1 | X_i)\nprob_x = [] # P(X_i)\n\nk = 2\n\nfor p in data:\n    print(\"point = \", p)\n    pdf_i = []\n\n    for j in range(k):\n        # P(X_i | C_j)\n        pdf_i.append(norm.pdf(p, mean[j], var[j]))\n        print(\"probability of observing that point if it came from cluster \" + str(j) + \" = \", pdf_i[j])\n        # P(C_j) already computed\n        prob_c[j]\n\n    # P(X_i) = P(C_0)P(X_i | C_0) + P(C_1)P(X_i | C_1)\n    prob_x = prob_c[0] * pdf_i[0] + prob_c[1] * pdf_i[1]\n\n    # P(C_j | X_i) = P(X_i | C_j)P(C_j) / P(X_i)\n    prob_c0_x.append( ... )\n    prob_c1_x.append( ... )\n\nprobs = zip(data, prob_c0_x, prob_c1_x)\nfor p in probs:\n    print(p[0])\n    print(\"Probability of coming from C_1 = \" + str(p[1]))\n    print(\"Probability of coming from C_2 = \" + str(p[2]))\n    print()\n",
      "metadata": {},
      "execution_count": null,
      "outputs": []
    },
    {
      "cell_type": "markdown",
      "source": "f) Having computed `P(C_j | X_i)`, update the estimates of `mean_j`, `var_j`, and `P(C_j)`. How different are these values from the original ones you got from K means? briefly comment.",
      "metadata": {}
    },
    {
      "cell_type": "code",
      "source": "prob_c = [sum(prob_c0_x)/ len(prob_c0_x), ... ]\nmean = [sum([x[0] * x[1] for x in zip(prob_c0_x, data)]) / sum(prob_c0_x), ... ]\nvar = [ ... , ... ]\n\nprint(\"P(C_1) = \" + str(prob_c[0]) + \",  P(C_2) = \" + str(prob_c[1]))\nprint(\"mean_1 = \" + str(mean[0]) + \",  mean_2 = \" + str(mean[1]))\nprint(\"var_1 = \" + str(var[0]) + \",  var_2 = \" + str(var[1]))",
      "metadata": {},
      "execution_count": null,
      "outputs": []
    },
    {
      "cell_type": "markdown",
      "source": "",
      "metadata": {}
    },
    {
      "cell_type": "markdown",
      "source": "g) Update `P(C_j | X_i)`. Comment on any differences or lack thereof you observe.",
      "metadata": {}
    },
    {
      "cell_type": "code",
      "source": "",
      "metadata": {},
      "execution_count": null,
      "outputs": []
    },
    {
      "cell_type": "markdown",
      "source": "",
      "metadata": {}
    },
    {
      "cell_type": "markdown",
      "source": "h) Use `P(C_j | X_i)` to create a hard assignment - label each point as belonging to a specific cluster (0 or 1)",
      "metadata": {}
    },
    {
      "cell_type": "code",
      "source": "",
      "metadata": {},
      "execution_count": null,
      "outputs": []
    },
    {
      "cell_type": "markdown",
      "source": "### Clustering Aggregation\n\n| Point | C | P |\n|-------|---|---|\n| A     | 0 | a |\n| B     | 0 | b |\n| C     | 2 | b |\n| D     | 1 | c |\n| E     | 1 | d |\n\na) Fill in the following table where for each pair of points determine whether C and P agree or disagree on how to cluster that pair.",
      "metadata": {}
    },
    {
      "cell_type": "markdown",
      "source": "| Pair | Disagreement |\n|------|--------------|\n| A  B |      ?       |\n| A  C |      ?       |\n| A  D |      ?       |\n| A  E |      ?       |\n| B  C |      ?       |\n| B  D |      ?       |\n| B  E |      ?       |\n| C  D |      ?       |\n| C  E |      ?       |\n| D  E |      ?       |\n",
      "metadata": {}
    },
    {
      "cell_type": "markdown",
      "source": "As datasets become very large, this process can become computationally challenging.\n\nb) Given N points, what is the formula for the number of unique pairs of points one can create?",
      "metadata": {}
    },
    {
      "cell_type": "markdown",
      "source": "",
      "metadata": {}
    },
    {
      "cell_type": "markdown",
      "source": "Assume that clustering C clusters all points in the same cluster and clustering P clusters points as such:\n\n| Point | P |\n|-------|---|\n| A     | 0 |\n| B     | 0 |\n| C     | 0 |\n| D     | 1 |\n| E     | 1 |\n| F     | 2 |\n| G     | 2 |\n| H     | 2 |\n| I     | 2 |\n\nc) What is the maximum number of disagreements there could be for a dataset of this size? (use the formula from b)?",
      "metadata": {}
    },
    {
      "cell_type": "markdown",
      "source": "",
      "metadata": {}
    },
    {
      "cell_type": "markdown",
      "source": "d) If we look at cluster 0. There are (3 x 2) / 2 = 3 pairs that agree with C (since all points in C are in the same cluster). For each cluster, determine how many agreements there are. How many total agreements are there? How many disagreements does that mean there are between C and P?",
      "metadata": {}
    },
    {
      "cell_type": "markdown",
      "source": "",
      "metadata": {}
    },
    {
      "cell_type": "markdown",
      "source": "e) Assuming that filtering the dataset by cluster number is a computationally easy operation, describe an algorithm inspired by the above process that can efficiently compute disagreement distances on large datasets.",
      "metadata": {}
    },
    {
      "cell_type": "markdown",
      "source": "",
      "metadata": {}
    }
  ]
}