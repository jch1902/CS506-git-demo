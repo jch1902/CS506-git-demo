{
  "metadata": {
    "vscode": {
      "interpreter": {
        "hash": "76ca05dc3ea24b2e3b98cdb7774adfbb40773424bf5109b477fd793f623715af"
      }
    },
    "kernelspec": {
      "name": "python",
      "display_name": "Python (Pyodide)",
      "language": "python"
    },
    "language_info": {
      "codemirror_mode": {
        "name": "ipython",
        "version": 3
      },
      "file_extension": ".py",
      "mimetype": "text/x-python",
      "name": "python",
      "nbconvert_exporter": "python",
      "pygments_lexer": "ipython3",
      "version": "3.11.1"
    }
  },
  "nbformat_minor": 4,
  "nbformat": 4,
  "cells": [
    {
      "cell_type": "markdown",
      "source": "# Worksheet 04\n\nName:  Jasper Hoong\nUID: U91969628\n\n### Topics\n\n- Distance & Similarity",
      "metadata": {}
    },
    {
      "cell_type": "markdown",
      "source": "### Distance & Similarity\n\n#### Part 1\n\na) In the minkowski distance, describe what the parameters p and d are.",
      "metadata": {}
    },
    {
      "cell_type": "markdown",
      "source": "The parameter d represents a d-dimensional space. P is the parameter that paramterizes the distance. To calculate the distance, you take the absolue value of x-y and take it to the pth power. Then you take the sum of this equation from i = 1 to d.",
      "metadata": {}
    },
    {
      "cell_type": "markdown",
      "source": "b) In your own words describe the difference between the Euclidean distance and the Manhattan distance.",
      "metadata": {}
    },
    {
      "cell_type": "markdown",
      "source": "The difference between Euclidean and Manhattan is that Euclidean is the direct path from one point to the other regardless of obstacles in the way or a realistic path. On the other hand, Manhattan is like giving directions in Manhattan where you have to walk around buildings, so it is the more realistic path, but not necessarily the direct path.",
      "metadata": {}
    },
    {
      "cell_type": "markdown",
      "source": "Consider A = (0, 0) and B = (1, 1). When:\n\n- p = 1, d(A, B) = 2\n- p = 2, d(A, B) = $\\sqrt{2} = 1.41$\n- p = 3, d(A, B) = $2^{1/3} = 1.26$\n- p = 4, d(A, B) = $2^{1/4} = 1.19$\n\nc) Describe what you think distance would look like when p is very large.",
      "metadata": {}
    },
    {
      "cell_type": "markdown",
      "source": "When p is very large, the distance is very small",
      "metadata": {}
    },
    {
      "cell_type": "markdown",
      "source": "d) Is the minkowski distance still a distance function when p < 1? Expain why / why not.",
      "metadata": {}
    },
    {
      "cell_type": "markdown",
      "source": "No because it would violate triangle inequality when p<1",
      "metadata": {}
    },
    {
      "cell_type": "markdown",
      "source": "e) when would you use cosine similarity over the euclidan distance?",
      "metadata": {}
    },
    {
      "cell_type": "markdown",
      "source": "When you care more about the direction than the magnitude",
      "metadata": {}
    },
    {
      "cell_type": "markdown",
      "source": "f) what does the jaccard distance account for that the manhattan distance doesn't?",
      "metadata": {}
    },
    {
      "cell_type": "markdown",
      "source": "Manhattan distance doesn't acount for the size of the intersection.",
      "metadata": {}
    },
    {
      "cell_type": "markdown",
      "source": "#### Part 2\n\nConsider the following two sentences:",
      "metadata": {}
    },
    {
      "cell_type": "code",
      "source": "s1 = \"hello my name is Alice\"  \ns2 = \"hello my name is Bob\"",
      "metadata": {
        "trusted": true
      },
      "execution_count": null,
      "outputs": []
    },
    {
      "cell_type": "markdown",
      "source": "using the union of words from both sentences, we can represent each sentence as a vector. Each element of the vector represents the presence or absence of the word at that index.\n\nIn this example, the union of words is (\"hello\", \"my\", \"name\", \"is\", \"Alice\", \"Bob\") so we can represent the above sentences as such:",
      "metadata": {}
    },
    {
      "cell_type": "code",
      "source": "v1 = [1,    1, 1,   1, 1,    0]\n#     hello my name is Alice\nv2 = [1,    1, 1,   1, 0, 1]\n#     hello my name is    Bob",
      "metadata": {
        "trusted": true
      },
      "execution_count": null,
      "outputs": []
    },
    {
      "cell_type": "markdown",
      "source": "Programmatically, we can do the following:",
      "metadata": {}
    },
    {
      "cell_type": "code",
      "source": "corpus = [s1, s2]\nall_words = list(set([item for x in corpus for item in x.split()]))\nprint(all_words)\nv1 = [1 if x in s1 else 0 for x in all_words]\nprint(v1)",
      "metadata": {
        "trusted": true
      },
      "execution_count": null,
      "outputs": []
    },
    {
      "cell_type": "markdown",
      "source": "Let's add a new sentence to our corpus:",
      "metadata": {}
    },
    {
      "cell_type": "code",
      "source": "s3 = \"hi my name is Claude\"\ncorpus.append(s3)",
      "metadata": {
        "trusted": true
      },
      "execution_count": null,
      "outputs": []
    },
    {
      "cell_type": "markdown",
      "source": "a) What is the new union of words used to represent s1, s2, and s3?",
      "metadata": {}
    },
    {
      "cell_type": "code",
      "source": "corpus = [s1, s2, s3]\nall_words = list(set([item for x in corpus for item in x.split()]))\nprint(all_words)\nv1 = [1 if x in s1 else 0 for x in all_words]\nprint(v1)",
      "metadata": {
        "trusted": true
      },
      "execution_count": null,
      "outputs": []
    },
    {
      "cell_type": "markdown",
      "source": "b) Represent s1, s2, and s3 as vectors as above, using this new set of words.",
      "metadata": {}
    },
    {
      "cell_type": "code",
      "source": "print(all_words)\nv1 = [1 if x in s1 else 0 for x in all_words]\nprint(v1)\nv2 = [1 if x in s2 else 0 for x in all_words]\nprint(v2)\nv3 = [1 if x in s3 else 0 for x in all_words]\nprint(v3)",
      "metadata": {
        "trusted": true
      },
      "execution_count": null,
      "outputs": []
    },
    {
      "cell_type": "markdown",
      "source": "c) Write a function that computes the manhattan distance between two vectors. Which pair of vectors are the most similar under that distance function?",
      "metadata": {}
    },
    {
      "cell_type": "code",
      "source": "def minkowski_dist(x, y, p):\n    if p < 1:\n        raise ValueError(\"p must be greater than 1\")\n    if len(x) != len(y):\n        raise ValueError(\"x and y must be in the same dimensional space\")\n    res = 0\n    for i in range(len(x)):\n        res += abs(x[i]- y[i])**p\n    return res ** (1/p)\ndef manhattan_dist(x,y):\n    return minkowski_dist(x,y,1)",
      "metadata": {
        "trusted": true
      },
      "execution_count": null,
      "outputs": []
    },
    {
      "cell_type": "markdown",
      "source": "",
      "metadata": {}
    },
    {
      "cell_type": "markdown",
      "source": "d) Create a matrix of all these vectors (row major) and add the following sentences in vector form:\n\n- \"hi Alice\"\n- \"hello Claude\"\n- \"Bob my name is Claude\"\n- \"hi Claude my name is Alice\"\n- \"hello Bob\"",
      "metadata": {}
    },
    {
      "cell_type": "code",
      "source": "corpus = [\"hi Alice\", \"hello Claude\", \"Bob my name is Claude\", \"hi Claude my name is Alice\", \"hello Bob\"]\nall_words = list(set([item for x in corpus for item in x.split()]))\nprint(all_words)\nmatrix = [[1 if word in sentence else 0 for word in all_words] for sentence in corpus]",
      "metadata": {},
      "execution_count": null,
      "outputs": []
    },
    {
      "cell_type": "markdown",
      "source": "e) How many rows and columns does this matrix have?",
      "metadata": {}
    },
    {
      "cell_type": "code",
      "source": "5 rows and 8 columns or row = len(matrix) and col = len(matrix[0])",
      "metadata": {
        "trusted": true
      },
      "execution_count": null,
      "outputs": []
    },
    {
      "cell_type": "markdown",
      "source": "f) When using the Manhattan distance, which two sentences are the most similar?",
      "metadata": {}
    },
    {
      "cell_type": "code",
      "source": "min = manhattan_dist(matrix[0],matrix[1])\nvectors = (0,1)\nfor i in range(1, len(matrix)):\n    for j in range(i, len(matrix)):\n        if i != j:\n            newMin = manhattan_dist(matrix[i],matrix[j])\n            if min > newMin:\n                min = newMin\n                vectors = (i,j)\nprint(min)\nprint(vectors)",
      "metadata": {
        "trusted": true
      },
      "execution_count": null,
      "outputs": []
    },
    {
      "cell_type": "markdown",
      "source": "",
      "metadata": {}
    }
  ]
}