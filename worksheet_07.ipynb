{
  "metadata": {
    "vscode": {
      "interpreter": {
        "hash": "76ca05dc3ea24b2e3b98cdb7774adfbb40773424bf5109b477fd793f623715af"
      }
    },
    "kernelspec": {
      "name": "python",
      "display_name": "Python (Pyodide)",
      "language": "python"
    },
    "language_info": {
      "name": "python",
      "version": "3.11.1"
    }
  },
  "nbformat_minor": 4,
  "nbformat": 4,
  "cells": [
    {
      "cell_type": "markdown",
      "source": "# Worksheet 07\n\nName: Jasper Hoong \nUID: U91969628\n\n### Topics\n\n- Density-Based Clustering\n\n### Density-Based Clustering\n\nFollow along with the live coding of the DBScan algorithm.",
      "metadata": {}
    },
    {
      "cell_type": "code",
      "source": "import numpy as np\nimport matplotlib.pyplot as plt\nimport sklearn.datasets as datasets\n\ncenters = [[1, 1], [-1, -1], [1, -1]]\nX, _ = datasets.make_blobs(n_samples=750, centers=centers, cluster_std=0.4,\n                            random_state=0)\nplt.scatter(X[:,0],X[:,1],s=10, alpha=0.8)\nplt.show()\n\nclass DBC():\n\n    def __init__(self, dataset, min_pts, epsilon):\n        self.dataset = dataset\n        self.min_pts = min_pts\n        self.epsilon = epsilon\n        self.assigments = [0 for _ in range(len(self.dataset))] #0 means not assigned\n\n    def distance(self, i, j):\n        \"\"\"\n            returns the euclidean distance\n        \"\"\"\n        return np.linalg.norm(self.dataset[i] - self.dataset[j])\n    \n    def get_neighborhood(self, i):\n        neighborhood = []\n        for j in range(len(self.dataset)):\n            if self.distance(i, j) <= self.epsilon and i != j:\n                neighborhood.append(j)\n        return neighborhood\n    \n    def is_core(self, i):\n        return self.get_neighborhood(i) >= self.min_pts\n    \n    def assign(self, i, cluster_num):\n        self.assignments[i] = clutser_num\n        neighbor_queue = self.get_neighborhood(i)\n        \n        while neighbor_queue:\n            next_candidate = neighbor_queue.pop()\n            if self.assignments[next_candidate] != 0:\n                #already assigned\n                #duplicates can occur when adding points in neighborhoods\n                # that have not been assigned\n                continue\n                \n            self.assignments[next_candidate] = cluster_num\n            \n            if self.is_core(next_candidate):\n                next_neighborhood = self.get_neighborhood(next_candidate)\n                neighbor_queue.append([i in next_neighborhood if assignments[i] == 0])\n        \n        return \n        \n    def dbscan(self):\n        \"\"\"\n        returns a list of assignments. The index of the\n        assignment should match the index of the data point\n        in the dataset.\n        \"\"\"\n        cluster_num = 1\n        for i in range(len(self.dataset)):\n            if self.is_core(i) and self.assignments[i] != 0:\n                self.assign(i, cluster_num)\n                #cluster_num += 1\n                \n        return self.assignments\n\nclustering = DBC(X, 3, .2).dbscan()\ncolors = np.array([x for x in 'bgrcmykbgrcmykbgrcmykbgrcmyk'])\ncolors = np.hstack([colors] * 20)\nplt.scatter(X[:, 0], X[:, 1], color=colors[clustering].tolist(), s=10, alpha=0.8)\nplt.show()",
      "metadata": {},
      "execution_count": null,
      "outputs": []
    }
  ]
}