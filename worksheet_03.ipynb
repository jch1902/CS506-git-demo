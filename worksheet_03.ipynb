{
  "metadata": {
    "vscode": {
      "interpreter": {
        "hash": "e7370f93d1d0cde622a1f8e1c04877d8463912d04d973331ad4851f04de6915a"
      }
    },
    "kernelspec": {
      "name": "python",
      "display_name": "Python (Pyodide)",
      "language": "python"
    },
    "language_info": {
      "codemirror_mode": {
        "name": "python",
        "version": 3
      },
      "file_extension": ".py",
      "mimetype": "text/x-python",
      "name": "python",
      "nbconvert_exporter": "python",
      "pygments_lexer": "ipython3",
      "version": "3.8"
    }
  },
  "nbformat_minor": 4,
  "nbformat": 4,
  "cells": [
    {
      "cell_type": "markdown",
      "source": "# Worksheet 03\n\nName:  Jasper Hoong\nUID: U91969628\n\n### Topics\n\n- Intro to DS\n\n### Linear Algebra Review\n\nIf you need a linear algebra review, please read through the [following pdf](https://github.com/gallettilance/CS506-Spring2023/raw/main/worksheets/lecture_03_linear_algebra_review.pdf) before next class\n\n### Intro to Data Science\n\na) what property must a hypothesis have?",
      "metadata": {}
    },
    {
      "cell_type": "markdown",
      "source": "It can be proven wrong",
      "metadata": {}
    },
    {
      "cell_type": "markdown",
      "source": "b) what examples would you have wanted to try?",
      "metadata": {}
    },
    {
      "cell_type": "markdown",
      "source": "B. (5, 7, 9)",
      "metadata": {}
    },
    {
      "cell_type": "markdown",
      "source": "c) Poll 1",
      "metadata": {}
    },
    {
      "cell_type": "markdown",
      "source": "B",
      "metadata": {}
    },
    {
      "cell_type": "markdown",
      "source": "d) Given the hypothesis (x, 2x, 3x), for each of the following, determine whether they are positive or negative examples:\n\n- (2, 4, 6)\n- (6, 8 , 10)\n- (1, 3, 5)",
      "metadata": {}
    },
    {
      "cell_type": "markdown",
      "source": "positive\npositive\nnegative",
      "metadata": {}
    },
    {
      "cell_type": "markdown",
      "source": "e) Poll 2",
      "metadata": {}
    },
    {
      "cell_type": "markdown",
      "source": "C",
      "metadata": {}
    },
    {
      "cell_type": "markdown",
      "source": "f) Describe steps of a Data Science Workflow",
      "metadata": {}
    },
    {
      "cell_type": "markdown",
      "source": "first, ask who and what the model is intended for, process data to see what viable data to use, then explore the data to really understand it, extract features, and then create the model or go back to exploring or extracting or even processing instead.",
      "metadata": {}
    },
    {
      "cell_type": "markdown",
      "source": "g) Give a real world example for each of the following data types:\n\n- record\n- graph\n- image\n- text",
      "metadata": {}
    },
    {
      "cell_type": "markdown",
      "source": "Records: tuples, vectors, example: (name, age, balance)\nGraph: Nodes connected together, example: networks\nImage: Matrix of pixels, example: pictures online\nText: List of words, example: articles being stored in a matrix",
      "metadata": {}
    },
    {
      "cell_type": "markdown",
      "source": "h) Give a real world example of unsupervised learning",
      "metadata": {}
    },
    {
      "cell_type": "markdown",
      "source": "A supermarket trying to find out what is costing them an excess amount of their revenue",
      "metadata": {}
    },
    {
      "cell_type": "markdown",
      "source": "i) Give a real world example of supervised learning",
      "metadata": {}
    },
    {
      "cell_type": "markdown",
      "source": "Image or speech recognition",
      "metadata": {}
    }
  ]
}