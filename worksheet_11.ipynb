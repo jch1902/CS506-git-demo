{
  "metadata": {
    "vscode": {
      "interpreter": {
        "hash": "76ca05dc3ea24b2e3b98cdb7774adfbb40773424bf5109b477fd793f623715af"
      }
    },
    "kernelspec": {
      "name": "python",
      "display_name": "Python (Pyodide)",
      "language": "python"
    },
    "language_info": {
      "name": "python",
      "version": "3.11.1"
    }
  },
  "nbformat_minor": 4,
  "nbformat": 4,
  "cells": [
    {
      "cell_type": "markdown",
      "source": "# Worksheet 11\n\nName:  Jasper Hoong\nUID: U91969628\n\n### Topics\n\n- Latent Semantic Analysis\n\n### Latent Semantic Analysis\n\nIn this section we will fetch news articles from 3 different categories. We will perform Tfidf vectorization on the corpus of documents and use SVD to represent our corpus in the feature space of topics that we've uncovered from SVD. We will attempt to cluster the documents into 3 clusters as we vary the number of singular vectors we use to represent the corpus, and compare the output to the clustering created by the news article categories. Do we end up with a better clustering the more singular vectors we use?",
      "metadata": {}
    },
    {
      "cell_type": "code",
      "source": "import numpy as np\nfrom sklearn import metrics\nimport matplotlib.pyplot as plt\nfrom sklearn.cluster import KMeans\nfrom sklearn.datasets import fetch_20newsgroups\nfrom sklearn.feature_extraction.text import TfidfVectorizer\nfrom nltk.stem.snowball import SnowballStemmer\nfrom nltk.tokenize import word_tokenize, sent_tokenize\n\ncategories = ['comp.os.ms-windows.misc', 'sci.space','rec.sport.baseball']\nnews_data = fetch_20newsgroups(subset='train', categories=categories)\nvectorizer = TfidfVectorizer(stop_words='english', min_df=4,max_df=0.8)\n\nstemmed_data = [\" \".join(SnowballStemmer(\"english\", ignore_stopwords=True).stem(word)  \n         for sent in sent_tokenize(message)\n        for word in word_tokenize(sent))\n        for message in news_data.data]\n\ndtm = vectorizer.fit_transform(stemmed_data)\nterms = vectorizer.get_feature_names_out()\ncentered_dtm = dtm - np.mean(dtm, axis=0)\n\nu, s, vt = np.linalg.svd(centered_dtm)\nplt.xlim([0,50])\nplt.plot(range(1,len(s)+1),s)\nplt.show()\n\nag = []\nmax = len(u)\nfor k in range(1,25):\n    vectorsk = u.dot(np.diag(s))[:,:k]\n    kmeans = KMeans(n_clusters=3, init='k-means++', max_iter=100, n_init=10, random_state=0)\n    kmeans.fit_predict(np.asarray(vectorsk))\n    labelsk = kmeans.labels_\n    ag.append(metrics.v_measure_score(labelsk, news_data.target)) # closer to 1 means closer to news categories\n\nplt.plot(range(1,25),ag)\nplt.ylabel('Agreement',size=20)\nplt.xlabel('No of Prin Comps',size=20)\nplt.show()\n",
      "metadata": {},
      "execution_count": null,
      "outputs": []
    },
    {
      "cell_type": "markdown",
      "source": "### Embeddings\n\nThe data comes from the [Yelp Dataset](https://www.yelp.com/dataset). Each line is a review that consists of a label (0 for negative reviews and 1 for positive reviews) and a set of words.\n\n```\n1 i will never forget this single breakfast experience in mad...\n0 the search for decent chinese takeout in madison continues ...\n0 sorry but me julio fell way below the standard even for med...\n1 so this is the kind of food that will kill you so there s t...\n```\n\nIn order to transform the set of words into vectors, we will rely on a method of feature engineering called word embeddings (Tfidf is one way to get these embeddings). Rather than simply indicating which words are present, word embeddings represent each word by \"embedding\" it in a low-dimensional vector space which may carry more information about the semantic meaning of the word. (for example in this space, the words \"King\" and \"Queen\" would be close).\n\n`word2vec.txt` contains the `word2vec` embeddings for about 15 thousand words. Not every word in each review is present in the provided `word2vec.txt` file. We can treat these words as being \"out of vocabulary\" and ignore them.\n\n### Example\n\nLet x_i denote the sentence `“a hot dog is not a sandwich because it is not square”` and let a toy word2vec dictionary be as follows:\n\n```\nhot      0.1     0.2     0.3\nnot      -0.1    0.2     -0.3\nsandwich 0.0     -0.2    0.4\nsquare   0.2     -0.1    0.5\n```\n\nwe would first `trim` the sentence to only contain words in our vocabulary: `\"hot not sandwich not square”` then embed x_i into the feature space:\n\n$$ φ2(x_i)) = \\frac{1}{5} (word2vec(\\text{hot}) + 2 · word2vec(\\text{not}) + word2vec(\\text{sandwich}) + word2vec(\\text{square})) = \\left[0.02 \\hspace{2mm} 0.06 \\hspace{2mm} 0.12 \\hspace{2mm}\\right]^T $$\n\na) Implement a function to trim out-of-vocabulary words from the reviews. Your function should return an nd array of the same dimension and dtype as the original loaded dataset. (10pts)",
      "metadata": {}
    },
    {
      "cell_type": "code",
      "source": "import csv\nimport numpy as np\n\nVECTOR_LEN = 300   # Length of word2vec vector\nMAX_WORD_LEN = 64  # Max word length in dict.txt and word2vec.txt\n\ndef load_tsv_dataset(file):\n    \"\"\"\n    Loads raw data and returns a tuple containing the reviews and their ratings.\n\n    Parameters:\n        file (str): File path to the dataset tsv file.\n\n    Returns:\n        An np.ndarray of shape N. N is the number of data points in the tsv file.\n        Each element dataset[i] is a tuple (label, review), where the label is\n        an integer (0 or 1) and the review is a string.\n    \"\"\"\n    dataset = np.loadtxt(file, delimiter='\\t', comments=None, encoding='utf-8',\n                         dtype='l,O')\n    return dataset\n\n\ndef load_feature_dictionary(file):\n    \"\"\"\n    Creates a map of words to vectors using the file that has the word2vec\n    embeddings.\n\n    Parameters:\n        file (str): File path to the word2vec embedding file.\n\n    Returns:\n        A dictionary indexed by words, returning the corresponding word2vec\n        embedding np.ndarray.\n    \"\"\"\n    word2vec_map = dict()\n    with open(file) as f:\n        read_file = csv.reader(f, delimiter='\\t')\n        for row in read_file:\n            word, embedding = row[0], row[1:]\n            word2vec_map[word] = np.array(embedding, dtype=float)\n    return word2vec_map\n\n\ndef trim_reviews(path_to_dataset):\n    trimmed_reviews = []\n    for label, review in dataset:\n        trimmed_review = []\n        for word in review.split():\n            # Check if the word is in the word embeddings dictionary\n            if word in word_embeddings:\n                trimmed_review.append(word)\n        trimmed_reviews.append((label, ' '.join(trimmed_review)))\n    return np.array(trimmed_reviews, dtype=object)\n\ntrim_train = trim_reviews(\"./data/train_small.tsv\")\ntrim_test = trim_reviews(\"./data/test_small.tsv\")",
      "metadata": {},
      "execution_count": null,
      "outputs": []
    }
  ]
}